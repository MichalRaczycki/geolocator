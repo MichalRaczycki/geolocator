{
 "cells": [
  {
   "cell_type": "code",
   "execution_count": 21,
   "metadata": {},
   "outputs": [],
   "source": [
    "import numpy as np\n",
    "import utils.helper_functions as support\n",
    "import pandas as pd\n",
    "from matplotlib import pyplot as plt\n",
    "import seaborn as sn\n",
    "import json\n",
    "%matplotlib inline\n",
    "from geopy import distance\n"
   ]
  },
  {
   "cell_type": "code",
   "execution_count": 27,
   "metadata": {},
   "outputs": [],
   "source": [
    "locations = open('data.json')\n",
    "data = json.load(locations)\n",
    "raw_point_coords ={}\n",
    "for i in data['features']:\n",
    "    raw_point_coords[i['properties']['point-id']] = tuple(i['geometry']['coordinates'])\n",
    "\n",
    "coordinate_dict = {}\n",
    "coordinate_dict[0] = (12.922963500022886, 52.42706852497485)\n",
    "for x in sorted(raw_point_coords.items(),key = lambda x :x[0]):\n",
    "    coordinate_dict[x[0]]=x[1]"
   ]
  },
  {
   "cell_type": "code",
   "execution_count": 28,
   "metadata": {},
   "outputs": [
    {
     "data": {
      "text/html": [
       "<div>\n",
       "<style scoped>\n",
       "    .dataframe tbody tr th:only-of-type {\n",
       "        vertical-align: middle;\n",
       "    }\n",
       "\n",
       "    .dataframe tbody tr th {\n",
       "        vertical-align: top;\n",
       "    }\n",
       "\n",
       "    .dataframe thead th {\n",
       "        text-align: right;\n",
       "    }\n",
       "</style>\n",
       "<table border=\"1\" class=\"dataframe\">\n",
       "  <thead>\n",
       "    <tr style=\"text-align: right;\">\n",
       "      <th></th>\n",
       "      <th>longitude</th>\n",
       "      <th>latitude</th>\n",
       "    </tr>\n",
       "  </thead>\n",
       "  <tbody>\n",
       "    <tr>\n",
       "      <th>0</th>\n",
       "      <td>12.922964</td>\n",
       "      <td>52.427069</td>\n",
       "    </tr>\n",
       "    <tr>\n",
       "      <th>1</th>\n",
       "      <td>12.924417</td>\n",
       "      <td>52.426643</td>\n",
       "    </tr>\n",
       "    <tr>\n",
       "      <th>2</th>\n",
       "      <td>12.924624</td>\n",
       "      <td>52.426676</td>\n",
       "    </tr>\n",
       "    <tr>\n",
       "      <th>3</th>\n",
       "      <td>12.924825</td>\n",
       "      <td>52.426731</td>\n",
       "    </tr>\n",
       "    <tr>\n",
       "      <th>4</th>\n",
       "      <td>12.924342</td>\n",
       "      <td>52.427059</td>\n",
       "    </tr>\n",
       "    <tr>\n",
       "      <th>5</th>\n",
       "      <td>12.924109</td>\n",
       "      <td>52.427000</td>\n",
       "    </tr>\n",
       "    <tr>\n",
       "      <th>6</th>\n",
       "      <td>12.924463</td>\n",
       "      <td>52.426764</td>\n",
       "    </tr>\n",
       "    <tr>\n",
       "      <th>7</th>\n",
       "      <td>12.924482</td>\n",
       "      <td>52.426911</td>\n",
       "    </tr>\n",
       "    <tr>\n",
       "      <th>8</th>\n",
       "      <td>12.924538</td>\n",
       "      <td>52.427088</td>\n",
       "    </tr>\n",
       "    <tr>\n",
       "      <th>9</th>\n",
       "      <td>12.922964</td>\n",
       "      <td>52.426666</td>\n",
       "    </tr>\n",
       "    <tr>\n",
       "      <th>10</th>\n",
       "      <td>12.923114</td>\n",
       "      <td>52.426267</td>\n",
       "    </tr>\n",
       "    <tr>\n",
       "      <th>11</th>\n",
       "      <td>12.923503</td>\n",
       "      <td>52.426105</td>\n",
       "    </tr>\n",
       "    <tr>\n",
       "      <th>12</th>\n",
       "      <td>12.923173</td>\n",
       "      <td>52.426059</td>\n",
       "    </tr>\n",
       "    <tr>\n",
       "      <th>13</th>\n",
       "      <td>12.923578</td>\n",
       "      <td>52.425886</td>\n",
       "    </tr>\n",
       "    <tr>\n",
       "      <th>14</th>\n",
       "      <td>12.923253</td>\n",
       "      <td>52.425825</td>\n",
       "    </tr>\n",
       "    <tr>\n",
       "      <th>15</th>\n",
       "      <td>12.923654</td>\n",
       "      <td>52.426340</td>\n",
       "    </tr>\n",
       "    <tr>\n",
       "      <th>16</th>\n",
       "      <td>12.923883</td>\n",
       "      <td>52.426336</td>\n",
       "    </tr>\n",
       "    <tr>\n",
       "      <th>17</th>\n",
       "      <td>12.923784</td>\n",
       "      <td>52.426145</td>\n",
       "    </tr>\n",
       "    <tr>\n",
       "      <th>18</th>\n",
       "      <td>12.923913</td>\n",
       "      <td>52.425951</td>\n",
       "    </tr>\n",
       "    <tr>\n",
       "      <th>19</th>\n",
       "      <td>12.924058</td>\n",
       "      <td>52.425748</td>\n",
       "    </tr>\n",
       "    <tr>\n",
       "      <th>20</th>\n",
       "      <td>12.923709</td>\n",
       "      <td>52.425650</td>\n",
       "    </tr>\n",
       "    <tr>\n",
       "      <th>21</th>\n",
       "      <td>12.923339</td>\n",
       "      <td>52.425569</td>\n",
       "    </tr>\n",
       "  </tbody>\n",
       "</table>\n",
       "</div>"
      ],
      "text/plain": [
       "    longitude   latitude\n",
       "0   12.922964  52.427069\n",
       "1   12.924417  52.426643\n",
       "2   12.924624  52.426676\n",
       "3   12.924825  52.426731\n",
       "4   12.924342  52.427059\n",
       "5   12.924109  52.427000\n",
       "6   12.924463  52.426764\n",
       "7   12.924482  52.426911\n",
       "8   12.924538  52.427088\n",
       "9   12.922964  52.426666\n",
       "10  12.923114  52.426267\n",
       "11  12.923503  52.426105\n",
       "12  12.923173  52.426059\n",
       "13  12.923578  52.425886\n",
       "14  12.923253  52.425825\n",
       "15  12.923654  52.426340\n",
       "16  12.923883  52.426336\n",
       "17  12.923784  52.426145\n",
       "18  12.923913  52.425951\n",
       "19  12.924058  52.425748\n",
       "20  12.923709  52.425650\n",
       "21  12.923339  52.425569"
      ]
     },
     "execution_count": 28,
     "metadata": {},
     "output_type": "execute_result"
    }
   ],
   "source": [
    "df = pd.DataFrame(coordinate_dict,index=['longitude','latitude']).transpose()\n",
    "df"
   ]
  },
  {
   "cell_type": "code",
   "execution_count": 29,
   "metadata": {},
   "outputs": [
    {
     "data": {
      "text/plain": [
       "(12.922963500022886, 12.924824953079224, 52.42556852497485, 52.42708796038019)"
      ]
     },
     "execution_count": 29,
     "metadata": {},
     "output_type": "execute_result"
    }
   ],
   "source": [
    "BBox=((df.longitude.min(), df.longitude.max(),\n",
    "        df.latitude.min(), df.latitude.max() ))\n",
    "BBox"
   ]
  },
  {
   "cell_type": "code",
   "execution_count": 30,
   "metadata": {},
   "outputs": [],
   "source": [
    "ruh_m = plt.imread('map.png')"
   ]
  },
  {
   "cell_type": "code",
   "execution_count": 31,
   "metadata": {},
   "outputs": [
    {
     "data": {
      "image/png": "[encoded data removed]",
      "text/plain": [
       "<Figure size 576x504 with 1 Axes>"
      ]
     },
     "metadata": {
      "needs_background": "light"
     },
     "output_type": "display_data"
    }
   ],
   "source": [
    "fig, ax = plt.subplots(figsize = (8,7))\n",
    "ax.scatter(df.longitude, df.latitude, zorder=1, alpha= 0.8, c='b', s=10)\n",
    "ax.set_title('Plotting Spatial Data field map')\n",
    "ax.set_xlim(BBox[0],BBox[1])\n",
    "ax.set_ylim(BBox[2],BBox[3])\n",
    "ax.imshow(ruh_m, zorder=0, extent = BBox, aspect= 'equal')\n",
    "for point in df.index:\n",
    "    ax.annotate(f'Point {point}', (df['longitude'][point],df['latitude'][point]))"
   ]
  },
  {
   "cell_type": "code",
   "execution_count": 32,
   "metadata": {},
   "outputs": [],
   "source": [
    "distance_dict={}\n",
    "for current_point in range(0,len(coordinate_dict.items())):\n",
    "    distance_dict[current_point] = {}\n",
    "    for y in range(0,len(coordinate_dict.items())):\n",
    "        if y!= current_point:\n",
    "            distance_dict[current_point][y] = distance.distance(coordinate_dict[current_point],coordinate_dict[y]).km"
   ]
  },
  {
   "cell_type": "code",
   "execution_count": 48,
   "metadata": {},
   "outputs": [],
   "source": [
    "distance_df = pd.DataFrame(distance_dict)\n",
    "#distance_df"
   ]
  },
  {
   "cell_type": "code",
   "execution_count": 34,
   "metadata": {},
   "outputs": [],
   "source": [
    "minimum_list =[]\n",
    "for x in distance_df:\n",
    "    minimum_list.append(distance_df[x].min())\n",
    "    \n",
    "minimums = pd.DataFrame(minimum_list)\n",
    "standard_distance = minimums[0].std()+1*minimums.mean()[0]\n"
   ]
  },
  {
   "cell_type": "code",
   "execution_count": 47,
   "metadata": {},
   "outputs": [],
   "source": [
    "distance_df.fillna(float('inf'))\n",
    "# for x in distance_df:\n",
    "#     if(distance_df[x]<standard_distance):\n",
    "#         print(f'point: {x}, neighbours:{distance_df[distance_df<standard_distance]}')\n",
    "\n",
    "neighbours = distance_df[distance_df<1*standard_distance]\n",
    "#neighbours\n"
   ]
  },
  {
   "cell_type": "code",
   "execution_count": 45,
   "metadata": {},
   "outputs": [],
   "source": [
    "import math \n",
    "import networkx as nx\n",
    "neighbour_dict={}\n",
    "for x in neighbours:\n",
    "    neighbour_dict[x]=[]\n",
    "    counter = 0\n",
    "    for y in neighbours[x]:\n",
    "        counter += 1\n",
    "        if not math.isnan(y):\n",
    "            neighbour_dict[x].append((0,y)) if counter==22 else neighbour_dict[x].append((counter,y)) "
   ]
  },
  {
   "cell_type": "code",
   "execution_count": 42,
   "metadata": {},
   "outputs": [],
   "source": [
    "# for x in neighbour_dict:\n",
    "#     if not neighbour_dict[x]:\n",
    "#         neighbour_dict[x].append((distance_df[x].idxmin(),distance_df[x].min()))\n"
   ]
  },
  {
   "cell_type": "code",
   "execution_count": 46,
   "metadata": {},
   "outputs": [],
   "source": [
    "distance_multiplier = 1.1\n",
    "\n",
    "for point in neighbour_dict:\n",
    "    while len(neighbour_dict[point])<2:\n",
    "        distance_multiplier+=0.1\n",
    "        neighbours = distance_df[distance_df[point]<distance_multiplier*standard_distance]\n",
    "        if not neighbours.empty:\n",
    "            for close_point in neighbours[point]:\n",
    "                if close_point != point:\n",
    "                    if (support.find_key_by_value(distance_dict[point],close_point),close_point) not in neighbour_dict[point]:\n",
    "                        neighbour_dict[point].append((support.find_key_by_value(distance_dict[point],close_point),close_point))\n",
    "    distance_multiplier = 1.1\n",
    "\n"
   ]
  },
  {
   "cell_type": "code",
   "execution_count": 44,
   "metadata": {},
   "outputs": [
    {
     "data": {
      "image/png": "[encoded data removed]",
      "text/plain": [
       "<Figure size 432x288 with 1 Axes>"
      ]
     },
     "metadata": {},
     "output_type": "display_data"
    }
   ],
   "source": [
    "G = nx.Graph()\n",
    "for x in neighbour_dict:\n",
    "    for neighbour in neighbour_dict[x]:\n",
    "        G.add_edge(x,neighbour[0],weight=neighbour[1])\n",
    "\n",
    "nx.draw(G,with_labels = True)\n"
   ]
  },
  {
   "cell_type": "code",
   "execution_count": null,
   "metadata": {},
   "outputs": [],
   "source": []
  },
  {
   "cell_type": "code",
   "execution_count": null,
   "metadata": {},
   "outputs": [],
   "source": []
  }
 ],
 "metadata": {
  "kernelspec": {
   "display_name": "Python 3",
   "language": "python",
   "name": "python3"
  },
  "language_info": {
   "codemirror_mode": {
    "name": "ipython",
    "version": 3
   },
   "file_extension": ".py",
   "mimetype": "text/x-python",
   "name": "python",
   "nbconvert_exporter": "python",
   "pygments_lexer": "ipython3",
   "version": "3.8.3"
  }
 },
 "nbformat": 4,
 "nbformat_minor": 2
}
